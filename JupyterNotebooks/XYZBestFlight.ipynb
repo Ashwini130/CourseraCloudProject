{
 "cells": [
  {
   "cell_type": "code",
   "execution_count": 1,
   "metadata": {},
   "outputs": [],
   "source": [
    "file = spark.sparkContext.textFile(\"file:///C:/Users/Ashwini/Desktop/XYZBestFlight\")"
   ]
  },
  {
   "cell_type": "code",
   "execution_count": 2,
   "metadata": {},
   "outputs": [],
   "source": [
    "file1 = file.map(lambda row:row.split())"
   ]
  },
  {
   "cell_type": "code",
   "execution_count": 56,
   "metadata": {},
   "outputs": [],
   "source": [
    "file1 = file1.filter(lambda row:len(row)==8)\\\n",
    "             .filter(lambda row:len(row[0])==3)\\\n",
    "             .filter(lambda row:len(row[1])==3)"
   ]
  },
  {
   "cell_type": "code",
   "execution_count": 58,
   "metadata": {},
   "outputs": [
    {
     "data": {
      "text/plain": [
       "[['ABE', 'ATL', 'AM', '2008-01-02', 'EV', '4923', '06:00', '-19.00'],\n",
       " ['ABE', 'ATL', 'AM', '2008-01-03', 'EV', '4877', '06:40', '409.00'],\n",
       " ['ABE', 'ATL', 'AM', '2008-01-04', 'OH', '4999', '06:40', '37.00'],\n",
       " ['ABE', 'ATL', 'AM', '2008-01-05', 'OH', '4999', '06:40', '3.00'],\n",
       " ['ABE', 'ATL', 'AM', '2008-01-06', 'OH', '4999', '06:40', '-13.00']]"
      ]
     },
     "execution_count": 58,
     "metadata": {},
     "output_type": "execute_result"
    }
   ],
   "source": [
    "file1.take(5)"
   ]
  },
  {
   "cell_type": "code",
   "execution_count": 4,
   "metadata": {},
   "outputs": [],
   "source": [
    "from pyspark.sql import Row\n",
    "rdd = file1.map(lambda row: Row(src=row[0], dest=row[1], am_pm=row[2], dep_date=row[3],\\\n",
    "                                carrier=row[4],flight_num=row[5],departure_time=row[6],arr_delay=row[7]))\n"
   ]
  },
  {
   "cell_type": "code",
   "execution_count": 5,
   "metadata": {},
   "outputs": [],
   "source": [
    "df = spark.createDataFrame(rdd)"
   ]
  },
  {
   "cell_type": "code",
   "execution_count": 6,
   "metadata": {},
   "outputs": [],
   "source": [
    "from cassandra.cluster import Cluster"
   ]
  },
  {
   "cell_type": "code",
   "execution_count": 7,
   "metadata": {},
   "outputs": [],
   "source": [
    "cluster = Cluster(['127.0.0.1'])  # provide contact points and port\n",
    "session = cluster.connect('aviation')"
   ]
  },
  {
   "cell_type": "code",
   "execution_count": 59,
   "metadata": {},
   "outputs": [
    {
     "name": "stdout",
     "output_type": "stream",
     "text": [
      "+-----+---------+-------+----------+--------------+----+----------+---+\n",
      "|am_pm|arr_delay|carrier|  dep_date|departure_time|dest|flight_num|src|\n",
      "+-----+---------+-------+----------+--------------+----+----------+---+\n",
      "|   AM|   -19.00|     EV|2008-01-02|         06:00| ATL|      4923|ABE|\n",
      "|   AM|   409.00|     EV|2008-01-03|         06:40| ATL|      4877|ABE|\n",
      "|   AM|    37.00|     OH|2008-01-04|         06:40| ATL|      4999|ABE|\n",
      "|   AM|     3.00|     OH|2008-01-05|         06:40| ATL|      4999|ABE|\n",
      "|   AM|   -13.00|     OH|2008-01-06|         06:40| ATL|      4999|ABE|\n",
      "|   AM|   -14.00|     OH|2008-01-07|         06:40| ATL|      4999|ABE|\n",
      "|   AM|     3.00|     OH|2008-01-08|         06:40| ATL|      4999|ABE|\n",
      "|   AM|    -3.00|     OH|2008-01-09|         06:40| ATL|      4999|ABE|\n",
      "|   AM|     0.00|     OH|2008-01-10|         06:40| ATL|      4999|ABE|\n",
      "|   AM|     5.00|     OH|2008-01-11|         06:40| ATL|      4999|ABE|\n",
      "|   AM|    -9.00|     OH|2008-01-12|         06:40| ATL|      4999|ABE|\n",
      "|   AM|    10.00|     OH|2008-01-13|         06:40| ATL|      4999|ABE|\n",
      "|   AM|    -4.00|     OH|2008-01-14|         06:40| ATL|      4999|ABE|\n",
      "|   AM|     8.00|     OH|2008-01-15|         06:40| ATL|      4999|ABE|\n",
      "|   AM|    -2.00|     OH|2008-01-16|         06:40| ATL|      4999|ABE|\n",
      "|   AM|    30.00|     OH|2008-01-17|         06:40| ATL|      4999|ABE|\n",
      "|   AM|    30.00|     OH|2008-01-18|         06:40| ATL|      4999|ABE|\n",
      "|   AM|    10.00|     OH|2008-01-20|         06:40| ATL|      4999|ABE|\n",
      "|   AM|    11.00|     OH|2008-01-21|         06:40| ATL|      4999|ABE|\n",
      "|   AM|    -5.00|     OH|2008-01-23|         06:40| ATL|      4999|ABE|\n",
      "+-----+---------+-------+----------+--------------+----+----------+---+\n",
      "only showing top 20 rows\n",
      "\n"
     ]
    }
   ],
   "source": [
    "df.show()"
   ]
  },
  {
   "cell_type": "code",
   "execution_count": 72,
   "metadata": {},
   "outputs": [],
   "source": [
    "df.write\\\n",
    ".format(\"org.apache.spark.sql.cassandra\")\\\n",
    ".mode(\"append\")\\\n",
    ".options(table=\"best_flight\",keyspace=\"aviation\")\\\n",
    ".save()"
   ]
  },
  {
   "cell_type": "code",
   "execution_count": 99,
   "metadata": {},
   "outputs": [],
   "source": [
    "#date input is in the format yyyy-mm-dd\n",
    "query1 = \"select * from best_flight \\\n",
    "where src='LAX' and dest='ORD' and dep_date='2008-01-01' and am_pm='AM'\""
   ]
  },
  {
   "cell_type": "code",
   "execution_count": 100,
   "metadata": {},
   "outputs": [],
   "source": [
    "result1 = session.execute(query1)"
   ]
  },
  {
   "cell_type": "code",
   "execution_count": 90,
   "metadata": {},
   "outputs": [
    {
     "name": "stdout",
     "output_type": "stream",
     "text": [
      "Best Flight Timings : DFW to ORD on 2008-06-10 : 1104(FlightNum) UA(Carrier) at 07:00 AM with minimum arrival delay of approximately -21.00 minutes\n"
     ]
    }
   ],
   "source": [
    "for i in result1:\n",
    "    print(\"Best Flight Timings : \"+i[0]+ \" to \"+i[1]+\\\n",
    "          \" on \"+str(i[3]) + \" : \"+ i[7] + \"(FlightNum) \" + i[5] + \"(Carrier) at \" \\\n",
    "          +str(i[6])+\" \"+i[2]+ \" with minimum arrival delay of approximately \"+str(i[4])+\" minutes\")"
   ]
  },
  {
   "cell_type": "code",
   "execution_count": 101,
   "metadata": {},
   "outputs": [],
   "source": [
    "query2 = \"select * from best_flight \\\n",
    "where src='ORD' and dest='JFK' and dep_date='2008-01-03' and am_pm='PM'\""
   ]
  },
  {
   "cell_type": "code",
   "execution_count": 102,
   "metadata": {
    "scrolled": true
   },
   "outputs": [],
   "source": [
    "result2 = session.execute(query2)"
   ]
  },
  {
   "cell_type": "code",
   "execution_count": 103,
   "metadata": {},
   "outputs": [
    {
     "name": "stdout",
     "output_type": "stream",
     "text": [
      "Best Flight Timings : LAX to ORD on 2008-01-01 : 944(FlightNum) UA(Carrier) at 07:05 AM with minimum arrival delay of approximately 1.00 minutes\n",
      "Best Flight Timings : ORD to JFK on 2008-01-03 : 918(FlightNum) B6(Carrier) at 19:00 PM with minimum arrival delay of approximately -7.00 minutes\n"
     ]
    }
   ],
   "source": [
    "for i in result1:\n",
    "    print(\"Best Flight Timings : \"+i[0]+\" to \"+i[1]+\\\n",
    "          \" on \"+str(i[3]) + \" : \"+ i[7] + \"(FlightNum) \" + i[5] + \"(Carrier) at \" \\\n",
    "          +str(i[6])+\" \"+i[2]+ \" with minimum arrival delay of approximately \"+str(i[4])+\" minutes\")\n",
    "\n",
    "for i in result2:\n",
    "    print(\"Best Flight Timings : \"+i[0]+ \" to \"+i[1]+\\\n",
    "          \" on \"+str(i[3]) + \" : \"+ i[7] + \"(FlightNum) \" + i[5] + \"(Carrier) at \" \\\n",
    "          +str(i[6])+\" \"+i[2]+ \" with minimum arrival delay of approximately \"+str(i[4])+\" minutes\")"
   ]
  },
  {
   "cell_type": "code",
   "execution_count": null,
   "metadata": {},
   "outputs": [],
   "source": []
  },
  {
   "cell_type": "code",
   "execution_count": null,
   "metadata": {},
   "outputs": [],
   "source": []
  }
 ],
 "metadata": {
  "kernelspec": {
   "display_name": "Python 3",
   "language": "python",
   "name": "python3"
  },
  "language_info": {
   "codemirror_mode": {
    "name": "ipython",
    "version": 3
   },
   "file_extension": ".py",
   "mimetype": "text/x-python",
   "name": "python",
   "nbconvert_exporter": "python",
   "pygments_lexer": "ipython3",
   "version": "3.7.6"
  }
 },
 "nbformat": 4,
 "nbformat_minor": 4
}
