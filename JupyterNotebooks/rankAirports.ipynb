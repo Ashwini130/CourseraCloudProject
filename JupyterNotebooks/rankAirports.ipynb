{
 "cells": [
  {
   "cell_type": "code",
   "execution_count": 2,
   "metadata": {},
   "outputs": [],
   "source": [
    "#file = spark.sparkContext.textFile('hdfs://localhost:9000/outtest2/part-r-00000')\n",
    "file = spark.sparkContext.textFile('file:///C:/Users/Ashwini/Desktop/rankAirports')\n"
   ]
  },
  {
   "cell_type": "code",
   "execution_count": 3,
   "metadata": {},
   "outputs": [],
   "source": [
    "rdd = file.cache()\n"
   ]
  },
  {
   "cell_type": "code",
   "execution_count": 4,
   "metadata": {},
   "outputs": [
    {
     "data": {
      "text/plain": [
       "['\"\"\\t559',\n",
       " '\"Albuquerque\\t1308',\n",
       " '\"Amarillo\\t855',\n",
       " '\"Anchorage\\t182',\n",
       " '\"Atlanta\\t2995']"
      ]
     },
     "execution_count": 4,
     "metadata": {},
     "output_type": "execute_result"
    }
   ],
   "source": [
    "file.take(5)"
   ]
  },
  {
   "cell_type": "code",
   "execution_count": 5,
   "metadata": {},
   "outputs": [
    {
     "data": {
      "text/plain": [
       "[(12017757, 'ORD'),\n",
       " (11298234, 'ATL'),\n",
       " (10558647, 'DFW'),\n",
       " (7571890, 'LAX'),\n",
       " (6491476, 'PHX'),\n",
       " (6166458, 'DEN'),\n",
       " (5490416, 'DTW'),\n",
       " (5397899, 'IAH'),\n",
       " (5072056, 'MSP'),\n",
       " (5048777, 'SFO')]"
      ]
     },
     "execution_count": 5,
     "metadata": {},
     "output_type": "execute_result"
    }
   ],
   "source": [
    "rdd.map(lambda line: line.split()).filter(lambda tuple: len(tuple) == 2)\n",
    ".filter(lambda tuple: len(tuple[0]) == 3).map(lambda tuple: (int(tuple[1]),tuple[0]))\n",
    ".sortByKey(ascending=False).take(10)\n"
   ]
  },
  {
   "cell_type": "code",
   "execution_count": null,
   "metadata": {},
   "outputs": [],
   "source": []
  }
 ],
 "metadata": {
  "kernelspec": {
   "display_name": "Python 3",
   "language": "python",
   "name": "python3"
  },
  "language_info": {
   "codemirror_mode": {
    "name": "ipython",
    "version": 3
   },
   "file_extension": ".py",
   "mimetype": "text/x-python",
   "name": "python",
   "nbconvert_exporter": "python",
   "pygments_lexer": "ipython3",
   "version": "3.7.6"
  }
 },
 "nbformat": 4,
 "nbformat_minor": 4
}
