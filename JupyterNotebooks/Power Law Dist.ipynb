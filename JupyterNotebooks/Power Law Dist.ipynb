{
 "cells": [
  {
   "cell_type": "code",
   "execution_count": 3,
   "metadata": {},
   "outputs": [],
   "source": [
    "import findspark\n",
    "findspark.init()"
   ]
  },
  {
   "cell_type": "code",
   "execution_count": 4,
   "metadata": {},
   "outputs": [
    {
     "data": {
      "text/plain": [
       "'F:\\\\Hadoop\\\\spark'"
      ]
     },
     "execution_count": 4,
     "metadata": {},
     "output_type": "execute_result"
    }
   ],
   "source": [
    "findspark.find()"
   ]
  },
  {
   "cell_type": "code",
   "execution_count": null,
   "metadata": {},
   "outputs": [],
   "source": [
    "import pyspark\n",
    "from pyspark import SparkContext,SparkConf\n",
    "conf = pyspark.SparkConf().setAppName('Distribution').setMaster('local')\n",
    "sc = pyspark.SparkContext(conf=conf)"
   ]
  },
  {
   "cell_type": "code",
   "execution_count": 27,
   "metadata": {},
   "outputs": [],
   "source": [
    "popApt = sc.textFile('file:///C:/Users/Ashwini/Desktop/rankAirports')"
   ]
  },
  {
   "cell_type": "code",
   "execution_count": null,
   "metadata": {},
   "outputs": [],
   "source": [
    "!pip install matplotlib"
   ]
  },
  {
   "cell_type": "code",
   "execution_count": 2,
   "metadata": {},
   "outputs": [],
   "source": [
    "import matplotlib"
   ]
  },
  {
   "cell_type": "code",
   "execution_count": 6,
   "metadata": {},
   "outputs": [],
   "source": [
    "from matplotlib import pyplot as plt  \n"
   ]
  },
  {
   "cell_type": "code",
   "execution_count": null,
   "metadata": {},
   "outputs": [],
   "source": [
    "popApt.collect()"
   ]
  },
  {
   "cell_type": "code",
   "execution_count": 28,
   "metadata": {},
   "outputs": [],
   "source": [
    "popApt = popApt.map(lambda line : line.split()).filter(lambda row:len(row[0])==3).filter(lambda row:len(row)==2).map(lambda line:(line[0],int(line[1]))).collect() #"
   ]
  },
  {
   "cell_type": "code",
   "execution_count": null,
   "metadata": {},
   "outputs": [],
   "source": [
    "print(popApt)"
   ]
  },
  {
   "cell_type": "code",
   "execution_count": 31,
   "metadata": {},
   "outputs": [],
   "source": [
    "array = []\n",
    "for row in popApt:\n",
    "    array.append(float(row[1]))"
   ]
  },
  {
   "cell_type": "code",
   "execution_count": 32,
   "metadata": {},
   "outputs": [
    {
     "data": {
      "text/plain": [
       "[228782.0,\n",
       " 38376.0,\n",
       " 1414760.0,\n",
       " 15177.0,\n",
       " 3267.0,\n",
       " 37238.0,\n",
       " 43946.0,\n",
       " 16882.0,\n",
       " 1032.0,\n",
       " 18015.0,\n",
       " 32867.0,\n",
       " 99886.0,\n",
       " 10837.0,\n",
       " 539578.0,\n",
       " 2097.0,\n",
       " 242649.0,\n",
       " 721072.0,\n",
       " 821.0,\n",
       " 7264.0,\n",
       " 24889.0,\n",
       " 11298234.0,\n",
       " 45200.0,\n",
       " 1487634.0,\n",
       " 106374.0,\n",
       " 86755.0,\n",
       " 117555.0,\n",
       " 1195662.0,\n",
       " 35285.0,\n",
       " 1.0,\n",
       " 1.0,\n",
       " 69664.0,\n",
       " 49305.0,\n",
       " 99705.0,\n",
       " 754838.0,\n",
       " 172002.0,\n",
       " 90544.0,\n",
       " 375.0,\n",
       " 13231.0,\n",
       " 41636.0,\n",
       " 2193658.0,\n",
       " 444989.0,\n",
       " 4150490.0,\n",
       " 16397.0,\n",
       " 13233.0,\n",
       " 16167.0,\n",
       " 28013.0,\n",
       " 23123.0,\n",
       " 20600.0,\n",
       " 278642.0,\n",
       " 204561.0,\n",
       " 903049.0,\n",
       " 1077875.0,\n",
       " 3174744.0,\n",
       " 132919.0,\n",
       " 313077.0,\n",
       " 150900.0,\n",
       " 1.0,\n",
       " 7916.0,\n",
       " 7192.0,\n",
       " 27825.0,\n",
       " 11757.0,\n",
       " 131951.0,\n",
       " 36491.0,\n",
       " 412602.0,\n",
       " 13770.0,\n",
       " 234963.0,\n",
       " 14.0,\n",
       " 27165.0,\n",
       " 2655426.0,\n",
       " 35906.0,\n",
       " 4725820.0,\n",
       " 1400439.0,\n",
       " 50211.0,\n",
       " 970.0,\n",
       " 12991.0,\n",
       " 499981.0,\n",
       " 49638.0,\n",
       " 227640.0,\n",
       " 113491.0,\n",
       " 34705.0,\n",
       " 3600761.0,\n",
       " 13206.0,\n",
       " 2.0,\n",
       " 163362.0,\n",
       " 1761529.0,\n",
       " 704537.0,\n",
       " 17683.0,\n",
       " 3345005.0,\n",
       " 6166458.0,\n",
       " 50645.0,\n",
       " 10558647.0,\n",
       " 19964.0,\n",
       " 8768.0,\n",
       " 60654.0,\n",
       " 36688.0,\n",
       " 408880.0,\n",
       " 5490416.0,\n",
       " 9198.0,\n",
       " 3555.0,\n",
       " 6956.0,\n",
       " 44754.0,\n",
       " 24177.0,\n",
       " 44582.0,\n",
       " 959834.0,\n",
       " 53915.0,\n",
       " 136564.0,\n",
       " 87926.0,\n",
       " 2506.0,\n",
       " 4963139.0,\n",
       " 30797.0,\n",
       " 182620.0,\n",
       " 120865.0,\n",
       " 255420.0,\n",
       " 82780.0,\n",
       " 61828.0,\n",
       " 31522.0,\n",
       " 1877765.0,\n",
       " 9538.0,\n",
       " 3.0,\n",
       " 104934.0,\n",
       " 190948.0,\n",
       " 32669.0,\n",
       " 144032.0,\n",
       " 1476.0,\n",
       " 10792.0,\n",
       " 489870.0,\n",
       " 44086.0,\n",
       " 16947.0,\n",
       " 65156.0,\n",
       " 4.0,\n",
       " 67559.0,\n",
       " 91119.0,\n",
       " 158176.0,\n",
       " 41496.0,\n",
       " 444282.0,\n",
       " 716521.0,\n",
       " 370458.0,\n",
       " 3497.0,\n",
       " 113275.0,\n",
       " 14303.0,\n",
       " 14016.0,\n",
       " 29358.0,\n",
       " 35411.0,\n",
       " 3359.0,\n",
       " 1283.0,\n",
       " 49347.0,\n",
       " 964479.0,\n",
       " 2228538.0,\n",
       " 222141.0,\n",
       " 214952.0,\n",
       " 295580.0,\n",
       " 32342.0,\n",
       " 13462.0,\n",
       " 2478988.0,\n",
       " 5397899.0,\n",
       " 387905.0,\n",
       " 67632.0,\n",
       " 22347.0,\n",
       " 1491.0,\n",
       " 106668.0,\n",
       " 1533135.0,\n",
       " 535.0,\n",
       " 10953.0,\n",
       " 10796.0,\n",
       " 286274.0,\n",
       " 33799.0,\n",
       " 68004.0,\n",
       " 11507.0,\n",
       " 84650.0,\n",
       " 353036.0,\n",
       " 963345.0,\n",
       " 2449180.0,\n",
       " 159898.0,\n",
       " 146589.0,\n",
       " 796.0,\n",
       " 94487.0,\n",
       " 124304.0,\n",
       " 4907644.0,\n",
       " 31693.0,\n",
       " 7571890.0,\n",
       " 320312.0,\n",
       " 15335.0,\n",
       " 243789.0,\n",
       " 71551.0,\n",
       " 4161566.0,\n",
       " 292110.0,\n",
       " 140728.0,\n",
       " 610897.0,\n",
       " 536.0,\n",
       " 120032.0,\n",
       " 549.0,\n",
       " 32414.0,\n",
       " 52314.0,\n",
       " 3321.0,\n",
       " 5251.0,\n",
       " 17321.0,\n",
       " 290346.0,\n",
       " 224.0,\n",
       " 138860.0,\n",
       " 2174432.0,\n",
       " 13886.0,\n",
       " 3673644.0,\n",
       " 308513.0,\n",
       " 2179704.0,\n",
       " 11830.0,\n",
       " 2226922.0,\n",
       " 128376.0,\n",
       " 103459.0,\n",
       " 100288.0,\n",
       " 442028.0,\n",
       " 2683798.0,\n",
       " 176.0,\n",
       " 2.0,\n",
       " 821675.0,\n",
       " 780.0,\n",
       " 533.0,\n",
       " 125481.0,\n",
       " 140268.0,\n",
       " 96236.0,\n",
       " 223181.0,\n",
       " 22322.0,\n",
       " 51114.0,\n",
       " 10292.0,\n",
       " 126129.0,\n",
       " 271666.0,\n",
       " 104271.0,\n",
       " 5072056.0,\n",
       " 1766499.0,\n",
       " 250.0,\n",
       " 32306.0,\n",
       " 154856.0,\n",
       " 20439.0,\n",
       " 2159792.0,\n",
       " 5.0,\n",
       " 310789.0,\n",
       " 894460.0,\n",
       " 754206.0,\n",
       " 38198.0,\n",
       " 1445200.0,\n",
       " 12017757.0,\n",
       " 795354.0,\n",
       " 25003.0,\n",
       " 538.0,\n",
       " 36861.0,\n",
       " 18150.0,\n",
       " 991670.0,\n",
       " 1962394.0,\n",
       " 48752.0,\n",
       " 82654.0,\n",
       " 3962141.0,\n",
       " 6491476.0,\n",
       " 79644.0,\n",
       " 12438.0,\n",
       " 20884.0,\n",
       " 7.0,\n",
       " 3848386.0,\n",
       " 1495.0,\n",
       " 6469.0,\n",
       " 291234.0,\n",
       " 72442.0,\n",
       " 5439.0,\n",
       " 26130.0,\n",
       " 274202.0,\n",
       " 12597.0,\n",
       " 811805.0,\n",
       " 3.0,\n",
       " 295383.0,\n",
       " 99982.0,\n",
       " 22564.0,\n",
       " 38928.0,\n",
       " 92.0,\n",
       " 1906947.0,\n",
       " 3075.0,\n",
       " 729.0,\n",
       " 658115.0,\n",
       " 1165.0,\n",
       " 950614.0,\n",
       " 128879.0,\n",
       " 680182.0,\n",
       " 3601.0,\n",
       " 4208.0,\n",
       " 2026.0,\n",
       " 108807.0,\n",
       " 745870.0,\n",
       " 2865918.0,\n",
       " 1503423.0,\n",
       " 344159.0,\n",
       " 223528.0,\n",
       " 121982.0,\n",
       " 77107.0,\n",
       " 20725.0,\n",
       " 12501.0,\n",
       " 6308.0,\n",
       " 858357.0,\n",
       " 3667385.0,\n",
       " 5048777.0,\n",
       " 152005.0,\n",
       " 36862.0,\n",
       " 238322.0,\n",
       " 49718.0,\n",
       " 2048648.0,\n",
       " 29376.0,\n",
       " 855154.0,\n",
       " 3766074.0,\n",
       " 1756.0,\n",
       " 1515812.0,\n",
       " 22267.0,\n",
       " 1514608.0,\n",
       " 616.0,\n",
       " 10687.0,\n",
       " 17424.0,\n",
       " 30983.0,\n",
       " 314820.0,\n",
       " 5014749.0,\n",
       " 110289.0,\n",
       " 50211.0,\n",
       " 34061.0,\n",
       " 33543.0,\n",
       " 107524.0,\n",
       " 619803.0,\n",
       " 1108.0,\n",
       " 190765.0,\n",
       " 108684.0,\n",
       " 2452295.0,\n",
       " 90389.0,\n",
       " 3213.0,\n",
       " 870029.0,\n",
       " 3760.0,\n",
       " 773313.0,\n",
       " 63341.0,\n",
       " 5691.0,\n",
       " 23539.0,\n",
       " 20696.0,\n",
       " 36256.0,\n",
       " 372919.0,\n",
       " 8614.0,\n",
       " 4724.0,\n",
       " 3692.0,\n",
       " 13870.0,\n",
       " 105831.0,\n",
       " 24563.0,\n",
       " 3188.0,\n",
       " 160035.0,\n",
       " 27253.0,\n",
       " 1281.0,\n",
       " 3332.0,\n",
       " 43168.0]"
      ]
     },
     "execution_count": 32,
     "metadata": {},
     "output_type": "execute_result"
    }
   ],
   "source": [
    "array"
   ]
  },
  {
   "cell_type": "code",
   "execution_count": 33,
   "metadata": {},
   "outputs": [],
   "source": [
    "#intialize spark session first before creating a dataframe\n",
    "from pyspark.sql import SparkSession\n",
    "spark = SparkSession(sc)"
   ]
  },
  {
   "cell_type": "code",
   "execution_count": 43,
   "metadata": {},
   "outputs": [
    {
     "name": "stdout",
     "output_type": "stream",
     "text": [
      "Collecting powerlaw\n",
      "  Downloading powerlaw-1.4.6.tar.gz (27 kB)\n",
      "Requirement already satisfied: scipy in c:\\users\\ashwini\\anaconda3\\lib\\site-packages (from powerlaw) (1.4.1)\n",
      "Requirement already satisfied: numpy in c:\\users\\ashwini\\anaconda3\\lib\\site-packages (from powerlaw) (1.18.1)\n",
      "Requirement already satisfied: matplotlib in c:\\users\\ashwini\\anaconda3\\lib\\site-packages (from powerlaw) (3.1.3)\n",
      "Requirement already satisfied: mpmath in c:\\users\\ashwini\\anaconda3\\lib\\site-packages (from powerlaw) (1.1.0)\n",
      "Requirement already satisfied: python-dateutil>=2.1 in c:\\users\\ashwini\\anaconda3\\lib\\site-packages (from matplotlib->powerlaw) (2.8.1)\n",
      "Requirement already satisfied: pyparsing!=2.0.4,!=2.1.2,!=2.1.6,>=2.0.1 in c:\\users\\ashwini\\anaconda3\\lib\\site-packages (from matplotlib->powerlaw) (2.4.6)\n",
      "Requirement already satisfied: cycler>=0.10 in c:\\users\\ashwini\\anaconda3\\lib\\site-packages (from matplotlib->powerlaw) (0.10.0)\n",
      "Requirement already satisfied: kiwisolver>=1.0.1 in c:\\users\\ashwini\\anaconda3\\lib\\site-packages (from matplotlib->powerlaw) (1.1.0)\n",
      "Requirement already satisfied: six>=1.5 in c:\\users\\ashwini\\anaconda3\\lib\\site-packages (from python-dateutil>=2.1->matplotlib->powerlaw) (1.14.0)\n",
      "Requirement already satisfied: setuptools in c:\\users\\ashwini\\anaconda3\\lib\\site-packages (from kiwisolver>=1.0.1->matplotlib->powerlaw) (45.2.0.post20200210)\n",
      "Building wheels for collected packages: powerlaw\n",
      "  Building wheel for powerlaw (setup.py): started\n",
      "  Building wheel for powerlaw (setup.py): finished with status 'done'\n",
      "  Created wheel for powerlaw: filename=powerlaw-1.4.6-py3-none-any.whl size=24793 sha256=ae2b4879fdcf179bde3b882751539c41cbb32c0964c0559509cf9bd07cba685f\n",
      "  Stored in directory: c:\\users\\ashwini\\appdata\\local\\pip\\cache\\wheels\\ee\\51\\38\\2e0f20cf80e1a0909acdd527df2288bd9feb8356b926d7d775\n",
      "Successfully built powerlaw\n",
      "Installing collected packages: powerlaw\n",
      "Successfully installed powerlaw-1.4.6\n"
     ]
    }
   ],
   "source": [
    "!pip install powerlaw"
   ]
  },
  {
   "cell_type": "code",
   "execution_count": 37,
   "metadata": {},
   "outputs": [],
   "source": [
    "import powerlaw"
   ]
  },
  {
   "cell_type": "code",
   "execution_count": 38,
   "metadata": {},
   "outputs": [
    {
     "name": "stderr",
     "output_type": "stream",
     "text": [
      "Calculating best minimal value for power law fit\n",
      "C:\\Users\\Ashwini\\anaconda3\\lib\\site-packages\\powerlaw.py:700: RuntimeWarning: invalid value encountered in true_divide\n",
      "  (Theoretical_CDF * (1 - Theoretical_CDF))\n"
     ]
    }
   ],
   "source": [
    "fit = powerlaw.Fit(array)"
   ]
  },
  {
   "cell_type": "code",
   "execution_count": 39,
   "metadata": {},
   "outputs": [
    {
     "data": {
      "image/png": "[encoded data removed]",
      "text/plain": [
       "<Figure size 432x288 with 1 Axes>"
      ]
     },
     "metadata": {
      "needs_background": "light"
     },
     "output_type": "display_data"
    }
   ],
   "source": [
    "fig = fit.plot_ccdf(color='r', label='Empirical Data')"
   ]
  },
  {
   "cell_type": "code",
   "execution_count": 40,
   "metadata": {},
   "outputs": [
    {
     "name": "stderr",
     "output_type": "stream",
     "text": [
      "C:\\Users\\Ashwini\\anaconda3\\lib\\site-packages\\powerlaw.py:700: RuntimeWarning: invalid value encountered in true_divide\n",
      "  (Theoretical_CDF * (1 - Theoretical_CDF))\n"
     ]
    },
    {
     "data": {
      "text/plain": [
       "<matplotlib.axes._subplots.AxesSubplot at 0x1e428fd408>"
      ]
     },
     "execution_count": 40,
     "metadata": {},
     "output_type": "execute_result"
    }
   ],
   "source": [
    "fit.power_law.plot_ccdf(ax=fig, color='b', linestyle='-', label='Power Law')"
   ]
  },
  {
   "cell_type": "code",
   "execution_count": 41,
   "metadata": {},
   "outputs": [
    {
     "name": "stderr",
     "output_type": "stream",
     "text": [
      "C:\\Users\\Ashwini\\anaconda3\\lib\\site-packages\\powerlaw.py:700: RuntimeWarning: invalid value encountered in true_divide\n",
      "  (Theoretical_CDF * (1 - Theoretical_CDF))\n"
     ]
    },
    {
     "data": {
      "text/plain": [
       "<matplotlib.axes._subplots.AxesSubplot at 0x1e428fd408>"
      ]
     },
     "execution_count": 41,
     "metadata": {},
     "output_type": "execute_result"
    }
   ],
   "source": [
    "import matplotlib.pyplot as plt\n",
    "fit.lognormal.plot_ccdf(ax=fig, color='g', linestyle='-', label='Log Normal')\n"
   ]
  },
  {
   "cell_type": "code",
   "execution_count": 42,
   "metadata": {},
   "outputs": [
    {
     "name": "stdout",
     "output_type": "stream",
     "text": [
      "-3.5442411161248812 0.0003937449777681864\n"
     ]
    }
   ],
   "source": [
    "R, p = fit.distribution_compare('power_law', 'lognormal', normalized_ratio=True)\n",
    "print(R,p)\n"
   ]
  },
  {
   "cell_type": "code",
   "execution_count": 43,
   "metadata": {},
   "outputs": [
    {
     "name": "stderr",
     "output_type": "stream",
     "text": [
      "Calculating best minimal value for power law fit\n",
      "C:\\Users\\Ashwini\\anaconda3\\lib\\site-packages\\powerlaw.py:700: RuntimeWarning: invalid value encountered in true_divide\n",
      "  (Theoretical_CDF * (1 - Theoretical_CDF))\n",
      "C:\\Users\\Ashwini\\anaconda3\\lib\\site-packages\\powerlaw.py:700: RuntimeWarning: invalid value encountered in true_divide\n",
      "  (Theoretical_CDF * (1 - Theoretical_CDF))\n",
      "C:\\Users\\Ashwini\\anaconda3\\lib\\site-packages\\powerlaw.py:700: RuntimeWarning: invalid value encountered in true_divide\n",
      "  (Theoretical_CDF * (1 - Theoretical_CDF))\n"
     ]
    },
    {
     "name": "stdout",
     "output_type": "stream",
     "text": [
      "Power law alpha: 1.494627\n",
      "Power law D: 0.101342\n",
      "Power law xmin: 60654\n",
      "Log normal mu: 11.941681\n",
      "Log normal sigma: 2.048870\n",
      "-3.5442411161248812 0.0003937449777681864\n"
     ]
    },
    {
     "data": {
      "image/png": "[encoded data removed]",
      "text/plain": [
       "<Figure size 432x288 with 1 Axes>"
      ]
     },
     "metadata": {
      "needs_background": "light"
     },
     "output_type": "display_data"
    }
   ],
   "source": [
    "fit = powerlaw.Fit(array)\n",
    "fig = fit.plot_ccdf(color='b', label='Empirical Data')\n",
    "fit.power_law.plot_ccdf(ax=fig, color='r', linestyle='-', label='Power Law')\n",
    "\n",
    "print('Power law alpha: %f' % fit.power_law.alpha)\n",
    "print('Power law D: %f' % fit.power_law.D)\n",
    "print('Power law xmin: %d' % fit.power_law.xmin)\n",
    "\n",
    "fit.lognormal.plot_ccdf(ax=fig, color='g', linestyle='-', label='Log Normal')\n",
    "print('Log normal mu: %f' % fit.lognormal.mu)\n",
    "print('Log normal sigma: %f' % fit.lognormal.sigma)\n",
    "\n",
    "R, p = fit.distribution_compare('power_law', 'lognormal', normalized_ratio=True)\n",
    "print(R,p)"
   ]
  },
  {
   "cell_type": "code",
   "execution_count": null,
   "metadata": {},
   "outputs": [],
   "source": []
  }
 ],
 "metadata": {
  "kernelspec": {
   "display_name": "Python 3",
   "language": "python",
   "name": "python3"
  },
  "language_info": {
   "codemirror_mode": {
    "name": "ipython",
    "version": 3
   },
   "file_extension": ".py",
   "mimetype": "text/x-python",
   "name": "python",
   "nbconvert_exporter": "python",
   "pygments_lexer": "ipython3",
   "version": "3.7.6"
  }
 },
 "nbformat": 4,
 "nbformat_minor": 4
}
