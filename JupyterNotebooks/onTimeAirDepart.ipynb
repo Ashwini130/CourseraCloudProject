{
 "cells": [
  {
   "cell_type": "code",
   "execution_count": 43,
   "metadata": {},
   "outputs": [],
   "source": [
    "file = spark.sparkContext.textFile(\"file:///C:/Users/Ashwini/Desktop/onTimeAirDepart\")"
   ]
  },
  {
   "cell_type": "code",
   "execution_count": 44,
   "metadata": {},
   "outputs": [
    {
     "data": {
      "text/plain": [
       "8088"
      ]
     },
     "execution_count": 44,
     "metadata": {},
     "output_type": "execute_result"
    }
   ],
   "source": [
    "file.count()"
   ]
  },
  {
   "cell_type": "code",
   "execution_count": 45,
   "metadata": {},
   "outputs": [
    {
     "data": {
      "text/plain": [
       "['ABE ALB\\t10.0',\n",
       " 'ABE ATL\\t9.94767144319345',\n",
       " 'ABE AVP\\t3.4390070921985814',\n",
       " 'ABE BDL\\t0.0',\n",
       " 'ABE BHM\\t11.0']"
      ]
     },
     "execution_count": 45,
     "metadata": {},
     "output_type": "execute_result"
    }
   ],
   "source": [
    "file.take(5)"
   ]
  },
  {
   "cell_type": "code",
   "execution_count": 52,
   "metadata": {},
   "outputs": [
    {
     "data": {
      "text/plain": [
       "['ABI DFW\\t3.8689159922489456',\n",
       " 'ABI IAH\\t5.570802005012531',\n",
       " 'ABI LAX\\t0.0',\n",
       " 'AEX ABI\\t0.0',\n",
       " 'DFW ABI\\t10.273330685879616',\n",
       " 'IAH ABI\\t6.560549313358302',\n",
       " 'IND ABI\\t-2.0',\n",
       " 'OAK ABI\\t-180.0',\n",
       " 'ONT ABI\\t108.0']"
      ]
     },
     "execution_count": 52,
     "metadata": {},
     "output_type": "execute_result"
    }
   ],
   "source": [
    "file.filter(lambda row :\"ABI\" in row).take(20)"
   ]
  },
  {
   "cell_type": "code",
   "execution_count": 46,
   "metadata": {},
   "outputs": [
    {
     "data": {
      "text/plain": [
       "[['ABE', 'ALB', '10.0'],\n",
       " ['ABE', 'ATL', '9.94767144319345'],\n",
       " ['ABE', 'AVP', '3.4390070921985814'],\n",
       " ['ABE', 'BDL', '0.0'],\n",
       " ['ABE', 'BHM', '11.0'],\n",
       " ['ABE', 'BWI', '3.2491816693944355'],\n",
       " ['ABE', 'CLE', '-3.8152038454691115'],\n",
       " ['ABE', 'CLT', '1.228503421600714'],\n",
       " ['ABE', 'CVG', '3.195371205290051'],\n",
       " ['ABE', 'DCA', '0.3835978835978836']]"
      ]
     },
     "execution_count": 46,
     "metadata": {},
     "output_type": "execute_result"
    }
   ],
   "source": [
    "file1 = file.map(lambda line:line.split()).filter(lambda line:len(line)==3)\n",
    "file1.take(10)"
   ]
  },
  {
   "cell_type": "code",
   "execution_count": 47,
   "metadata": {},
   "outputs": [
    {
     "data": {
      "text/plain": [
       "8088"
      ]
     },
     "execution_count": 47,
     "metadata": {},
     "output_type": "execute_result"
    }
   ],
   "source": [
    "file.count()"
   ]
  },
  {
   "cell_type": "code",
   "execution_count": 12,
   "metadata": {},
   "outputs": [],
   "source": [
    "from pyspark.sql import Row\n",
    "rdd = file.map(lambda row: Row(src_airport=row[0],dest_airport=row[1], dep_delay=row[2]))"
   ]
  },
  {
   "cell_type": "code",
   "execution_count": 28,
   "metadata": {},
   "outputs": [],
   "source": [
    "df = spark.createDataFrame(rdd)"
   ]
  },
  {
   "cell_type": "code",
   "execution_count": 34,
   "metadata": {},
   "outputs": [],
   "source": [
    "from pyspark.sql.functions import ceil, col,round\n",
    "\n",
    "df1 = df.select(\"src_airport\",\"dest_airport\",round(col('dep_delay'),4))"
   ]
  },
  {
   "cell_type": "code",
   "execution_count": 37,
   "metadata": {},
   "outputs": [],
   "source": [
    "df1 =df1.withColumnRenamed(\"round(dep_delay, 4)\",\"dep_delay\")"
   ]
  },
  {
   "cell_type": "code",
   "execution_count": 35,
   "metadata": {},
   "outputs": [],
   "source": [
    "from pyspark.sql import SQLContext\n",
    "sqlContext = SQLContext(spark)"
   ]
  },
  {
   "cell_type": "code",
   "execution_count": 38,
   "metadata": {},
   "outputs": [],
   "source": [
    "df1.write\\\n",
    ".format(\"org.apache.spark.sql.cassandra\")\\\n",
    ".mode('append')\\\n",
    ".options(table = \"airport_depart_delay\", keyspace = \"aviation\")  \\\n",
    ".save()"
   ]
  },
  {
   "cell_type": "code",
   "execution_count": 21,
   "metadata": {},
   "outputs": [],
   "source": [
    "data= sqlContext.read \\\n",
    "  .format('org.apache.spark.sql.cassandra') \\\n",
    "  .options(table='airport_depart_delay', keyspace='aviation') \\\n",
    "  .load()"
   ]
  },
  {
   "cell_type": "code",
   "execution_count": 22,
   "metadata": {},
   "outputs": [
    {
     "name": "stdout",
     "output_type": "stream",
     "text": [
      "+-----------+--------------------+------------+\n",
      "|src_airport|           dep_delay|dest_airport|\n",
      "+-----------+--------------------+------------+\n",
      "|        LYH|13.44827586206896...|         BWI|\n",
      "|        LYH|8.638381201044387000|         CHO|\n",
      "|        LYH|6.861136826513609000|         ATL|\n",
      "|        LYH|3.226510067114094000|         CLT|\n",
      "|        LYH|0.250000000000000000|         ROA|\n",
      "|        CRW|106.0000000000000...|         ROA|\n",
      "|        CRW|100.0000000000000...|         RDU|\n",
      "|        CRW|14.90111991259218...|         ORD|\n",
      "|        CRW|12.77566784679755...|         ATL|\n",
      "|        CRW|6.059131736526946000|         DCA|\n",
      "|        CRW|5.608695652173913000|         HTS|\n",
      "|        CRW|5.521376491383120000|         PIT|\n",
      "|        CRW|5.068027210884353000|         LEX|\n",
      "|        CRW|5.064402810304450000|         LGA|\n",
      "|        CRW|5.000000000000000000|         BNA|\n",
      "|        CRW|4.678974132213133000|         CLT|\n",
      "|        CRW|4.677583465818760000|         IAH|\n",
      "|        CRW|3.134252169474221400|         CVG|\n",
      "|        CRW|2.436967865970887000|         IAD|\n",
      "|        CRW|               0E-18|         GSP|\n",
      "+-----------+--------------------+------------+\n",
      "only showing top 20 rows\n",
      "\n"
     ]
    }
   ],
   "source": [
    "data.show()"
   ]
  },
  {
   "cell_type": "code",
   "execution_count": 48,
   "metadata": {},
   "outputs": [
    {
     "data": {
      "text/plain": [
       "[]"
      ]
     },
     "execution_count": 48,
     "metadata": {},
     "output_type": "execute_result"
    }
   ],
   "source": [
    "file.filter(lambda row:row[0]=='CMI').take(7)"
   ]
  },
  {
   "cell_type": "code",
   "execution_count": null,
   "metadata": {},
   "outputs": [],
   "source": []
  }
 ],
 "metadata": {
  "kernelspec": {
   "display_name": "Python 3",
   "language": "python",
   "name": "python3"
  },
  "language_info": {
   "codemirror_mode": {
    "name": "ipython",
    "version": 3
   },
   "file_extension": ".py",
   "mimetype": "text/x-python",
   "name": "python",
   "nbconvert_exporter": "python",
   "pygments_lexer": "ipython3",
   "version": "3.7.6"
  }
 },
 "nbformat": 4,
 "nbformat_minor": 4
}
